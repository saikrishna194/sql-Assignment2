{
  "nbformat": 4,
  "nbformat_minor": 0,
  "metadata": {
    "colab": {
      "name": "sql Assignmnet2 ",
      "provenance": []
    },
    "kernelspec": {
      "name": "python3",
      "display_name": "Python 3"
    },
    "language_info": {
      "name": "python"
    }
  },
  "cells": [
    {
      "cell_type": "markdown",
      "source": [
        "Q-1. Write an SQL query to print the first three characters of  FIRST_NAME from Worker\n",
        "table."
      ],
      "metadata": {
        "id": "6pMari6zLmVS"
      }
    },
    {
      "cell_type": "markdown",
      "source": [
        "   SELECT LEFT([First_name],3)FROM Worker"
      ],
      "metadata": {
        "id": "HwAwJjnRMJQu"
      }
    },
    {
      "cell_type": "markdown",
      "source": [
        "Q-2. Write an SQL query to find the position of the alphabet (‘a’) in the first name\n",
        "column ‘Amitabh’ from Worker table."
      ],
      "metadata": {
        "id": "q5vFmuhLMLlH"
      }
    },
    {
      "cell_type": "markdown",
      "source": [
        "SELECT CHARINDEX('a',[First_name] COLLATE Latin1_General_CS_AS) FROM Worker \n",
        "WHERE [First_name] = 'Amitabh'"
      ],
      "metadata": {
        "id": "xv-czpFtMYuM"
      }
    },
    {
      "cell_type": "markdown",
      "source": [
        "Q-3. Write an SQL query to print the name of employees having the highest salary in each\n",
        "department."
      ],
      "metadata": {
        "id": "AD1WLzJUMjHs"
      }
    },
    {
      "cell_type": "markdown",
      "source": [
        "select w1.first_name,w1.salary,w1.department from worker w1 join (select max(salary) as highest,department from wroker Group by department) w2 on w1.department =w2.department And w1.salary = w2.highest"
      ],
      "metadata": {
        "id": "Zx2KbrCtMw-9"
      }
    }
  ]
}